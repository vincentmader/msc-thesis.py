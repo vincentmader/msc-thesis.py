{
 "cells": [
  {
   "cell_type": "code",
   "execution_count": 1,
   "id": "1f14767d",
   "metadata": {},
   "outputs": [],
   "source": [
    "import sys\n",
    "sys.path.append(\"../src\")"
   ]
  },
  {
   "cell_type": "code",
   "execution_count": 2,
   "id": "20a36bdc",
   "metadata": {},
   "outputs": [],
   "source": [
    "import matplotlib.pyplot as plt\n",
    "import numpy as np"
   ]
  },
  {
   "cell_type": "markdown",
   "id": "185c9389",
   "metadata": {},
   "source": [
    "# Test the `DiscreteAxis` class."
   ]
  },
  {
   "cell_type": "code",
   "execution_count": 3,
   "id": "afbfc34e",
   "metadata": {},
   "outputs": [],
   "source": [
    "from utils.axis import DiscreteAxis"
   ]
  },
  {
   "cell_type": "markdown",
   "id": "a7951f65",
   "metadata": {},
   "source": [
    "### Test with linear scale."
   ]
  },
  {
   "cell_type": "code",
   "execution_count": 4,
   "id": "6dc20e60",
   "metadata": {},
   "outputs": [],
   "source": [
    "# Define: Axis limits, nr. of bins, & scale.\n",
    "x_min = 0\n",
    "x_max = 10\n",
    "N     = 10\n",
    "scale = \"lin\"\n",
    "\n",
    "# From this, initialize the `DiscreteAxis` object.\n",
    "axis = DiscreteAxis(x_min, x_max, N, scale)\n",
    "\n",
    "# Load arrays containing values of bin centers, boundaries, & widths.\n",
    "xc = axis.grid_cell_centers\n",
    "xb = axis.grid_cell_boundaries\n",
    "xw = axis.grid_cell_widths"
   ]
  },
  {
   "cell_type": "code",
   "execution_count": 5,
   "id": "bcf62daa",
   "metadata": {},
   "outputs": [
    {
     "name": "stdout",
     "output_type": "stream",
     "text": [
      "Bin boundaries:\n",
      "xb = array([ 0.,  1.,  2.,  3.,  4.,  5.,  6.,  7.,  8.,  9., 10.])\n",
      "\n",
      "Bin centers:\n",
      "xc = array([0.5, 1.5, 2.5, 3.5, 4.5, 5.5, 6.5, 7.5, 8.5, 9.5])\n",
      "\n",
      "Bin widths:\n",
      "xw = array([1., 1., 1., 1., 1., 1., 1., 1., 1., 1.])\n",
      "\n"
     ]
    },
    {
     "data": {
      "image/png": "[encoded data removed]",
      "text/plain": [
       "<Figure size 640x480 with 1 Axes>"
      ]
     },
     "metadata": {},
     "output_type": "display_data"
    }
   ],
   "source": [
    "# Plot a representation of the bins.\n",
    "plt.bar(xb, 1, color=\"red\",   width=0.1, label=\"bin boundaries\")\n",
    "plt.bar(xc, 1, color=\"green\", width=0.8, label=\"bin centers\")\n",
    "plt.legend(loc=\"upper right\")\n",
    "\n",
    "# Print the values.\n",
    "print(f\"Bin boundaries:\\n{xb = }\\n\")\n",
    "print(f\"Bin centers:\\n{xc = }\\n\")\n",
    "print(f\"Bin widths:\\n{xw = }\\n\")"
   ]
  },
  {
   "cell_type": "code",
   "execution_count": 6,
   "id": "2234fa33",
   "metadata": {},
   "outputs": [
    {
     "name": "stdout",
     "output_type": "stream",
     "text": [
      "i = 0\t\t-> x_i = 0.5\n",
      "i = 1\t\t-> x_i = 1.5\n",
      "i = 2\t\t-> x_i = 2.5\n",
      "i = 3\t\t-> x_i = 3.5\n",
      "i = 4\t\t-> x_i = 4.5\n",
      "i = 5\t\t-> x_i = 5.5\n",
      "i = 6\t\t-> x_i = 6.5\n",
      "i = 7\t\t-> x_i = 7.5\n",
      "i = 8\t\t-> x_i = 8.5\n",
      "i = 9\t\t-> x_i = 9.5\n"
     ]
    }
   ],
   "source": [
    "# For each of the indices, get the corresponding value (of the bin center).\n",
    "for i in range(N):\n",
    "    x_i = axis.value_from_index(i)\n",
    "    print(f\"{i = }\\t\\t-> {x_i = }\")"
   ]
  },
  {
   "cell_type": "code",
   "execution_count": 7,
   "id": "cf639442",
   "metadata": {},
   "outputs": [
    {
     "name": "stdout",
     "output_type": "stream",
     "text": [
      "x = 0.0 \t-> i_x = 'No bin found for x = 0.0'\n",
      "x = 1.0 \t-> i_x = 0\n",
      "x = 2.0 \t-> i_x = 1\n",
      "x = 3.0 \t-> i_x = 2\n",
      "x = 4.0 \t-> i_x = 3\n",
      "x = 5.0 \t-> i_x = 4\n",
      "x = 6.0 \t-> i_x = 5\n",
      "x = 7.0 \t-> i_x = 6\n",
      "x = 8.0 \t-> i_x = 7\n",
      "x = 9.0 \t-> i_x = 8\n",
      "x = 10.0 \t-> i_x = 9\n"
     ]
    }
   ],
   "source": [
    "# For each of the bin boundary values, get the corresponding bin index.\n",
    "for x in xb:\n",
    "    try:\n",
    "        i_x = axis.index_from_value(x)\n",
    "    # ATTENTION: `index_from_value` does NOT work for the left-most border!\n",
    "    except IndexError:\n",
    "        i_x = f\"No bin found for {x = }\"\n",
    "        \n",
    "    print(f\"{x = } \\t-> {i_x = }\")"
   ]
  },
  {
   "cell_type": "code",
   "execution_count": 8,
   "id": "c6dab9db",
   "metadata": {},
   "outputs": [
    {
     "name": "stdout",
     "output_type": "stream",
     "text": [
      "x = 0.5\t\t-> i_x = 0\n",
      "x = 1.5\t\t-> i_x = 1\n",
      "x = 2.5\t\t-> i_x = 2\n",
      "x = 3.5\t\t-> i_x = 3\n",
      "x = 4.5\t\t-> i_x = 4\n",
      "x = 5.5\t\t-> i_x = 5\n",
      "x = 6.5\t\t-> i_x = 6\n",
      "x = 7.5\t\t-> i_x = 7\n",
      "x = 8.5\t\t-> i_x = 8\n",
      "x = 9.5\t\t-> i_x = 9\n"
     ]
    }
   ],
   "source": [
    "# For each of the bin center values, get the corresponding bin index.\n",
    "for x in xc:\n",
    "    i_x = axis.index_from_value(x)\n",
    "    print(f\"{x = }\\t\\t-> {i_x = }\")"
   ]
  },
  {
   "cell_type": "markdown",
   "id": "92c9d242",
   "metadata": {},
   "source": [
    "### Test with logarithmic scale."
   ]
  },
  {
   "cell_type": "code",
   "execution_count": 9,
   "id": "18efdc88",
   "metadata": {},
   "outputs": [],
   "source": [
    "# Define: Axis limits, nr. of bins, & scale.\n",
    "x_min = 1e-15 \n",
    "x_max = 1e+6\n",
    "N     = 10\n",
    "scale = \"log\"\n",
    "\n",
    "# From this, initialize the `DiscreteAxis` object.\n",
    "axis = DiscreteAxis(x_min, x_max, N, scale)\n",
    "# ATTENTION: \n",
    "# Set x_min=1e-5, x_max=1e+6, N=10 \n",
    "# -> Assertion error, only valid up to machine precision.\n",
    "#    TODO: Handle?\n",
    "\n",
    "# Load arrays containing values of bin centers, boundaries, & widths.\n",
    "xc = axis.grid_cell_centers\n",
    "xb = axis.grid_cell_boundaries\n",
    "xw = axis.grid_cell_widths"
   ]
  },
  {
   "cell_type": "code",
   "execution_count": 10,
   "id": "45ed67b8",
   "metadata": {},
   "outputs": [
    {
     "name": "stdout",
     "output_type": "stream",
     "text": [
      "Bin boundaries:\n",
      "xb = array([1.00000000e-15, 1.25892541e-13, 1.58489319e-11, 1.99526231e-09,\n",
      "       2.51188643e-07, 3.16227766e-05, 3.98107171e-03, 5.01187234e-01,\n",
      "       6.30957344e+01, 7.94328235e+03, 1.00000000e+06])\n",
      "\n",
      "Bin centers:\n",
      "xc = array([1.12201845e-14, 1.41253754e-12, 1.77827941e-10, 2.23872114e-08,\n",
      "       2.81838293e-06, 3.54813389e-04, 4.46683592e-02, 5.62341325e+00,\n",
      "       7.07945784e+02, 8.91250938e+04])\n",
      "\n",
      "Bin widths:\n",
      "xw = array([1.24892541e-13, 1.57230394e-11, 1.97941338e-09, 2.49193381e-07,\n",
      "       3.13715880e-05, 3.94944893e-03, 4.97206162e-01, 6.25945472e+01,\n",
      "       7.88018661e+03, 9.92056718e+05])\n",
      "\n"
     ]
    },
    {
     "data": {
      "image/png": "[encoded data removed]",
      "text/plain": [
       "<Figure size 640x480 with 1 Axes>"
      ]
     },
     "metadata": {},
     "output_type": "display_data"
    }
   ],
   "source": [
    "# Plot a representation of the bins.\n",
    "fig, ax = plt.subplots()\n",
    "ax.set_xscale('log')\n",
    "plt.bar(xb[:-1], 1, color=\"red\",   width=xw*0.005, label=\"bin boundaries\")  \n",
    "plt.bar(xc,      1, color=\"green\", width=xw*0.15, label=\"bin centers\")\n",
    "plt.legend(loc=\"upper right\")\n",
    "\n",
    "# ATTENTION: \n",
    "# Due to shape mismatch, the last boundary value is not drawn here.\n",
    "# It does exist though! -> Analogous to linear scale.\n",
    "\n",
    "# Print the values.\n",
    "print(f\"Bin boundaries:\\n{xb = }\\n\")\n",
    "print(f\"Bin centers:\\n{xc = }\\n\")\n",
    "print(f\"Bin widths:\\n{xw = }\\n\")"
   ]
  },
  {
   "cell_type": "code",
   "execution_count": 11,
   "id": "7f6c640b",
   "metadata": {},
   "outputs": [
    {
     "name": "stdout",
     "output_type": "stream",
     "text": [
      "i = 0\t-> x_i = 1.12e-14\n",
      "i = 1\t-> x_i = 1.41e-12\n",
      "i = 2\t-> x_i = 1.78e-10\n",
      "i = 3\t-> x_i = 2.24e-08\n",
      "i = 4\t-> x_i = 2.82e-06\n",
      "i = 5\t-> x_i = 3.55e-04\n",
      "i = 6\t-> x_i = 4.47e-02\n",
      "i = 7\t-> x_i = 5.62e+00\n",
      "i = 8\t-> x_i = 7.08e+02\n",
      "i = 9\t-> x_i = 8.91e+04\n"
     ]
    }
   ],
   "source": [
    "# For each of the indices, get the corresponding value (of the bin center).\n",
    "for i in range(N):\n",
    "    x_i = axis.value_from_index(i)\n",
    "    print(f\"{i = }\\t-> {x_i = :.2e}\")"
   ]
  },
  {
   "cell_type": "code",
   "execution_count": 12,
   "id": "8d68c0fe",
   "metadata": {},
   "outputs": [
    {
     "name": "stdout",
     "output_type": "stream",
     "text": [
      "x = 1.00e-15\ti_x = 'No bin found for x=1e-15'\n",
      "x = 1.26e-13\ti_x = 0\n",
      "x = 1.58e-11\ti_x = 1\n",
      "x = 2.00e-09\ti_x = 2\n",
      "x = 2.51e-07\ti_x = 3\n",
      "x = 3.16e-05\ti_x = 4\n",
      "x = 3.98e-03\ti_x = 5\n",
      "x = 5.01e-01\ti_x = 6\n",
      "x = 6.31e+01\ti_x = 7\n",
      "x = 7.94e+03\ti_x = 8\n",
      "x = 1.00e+06\ti_x = 9\n"
     ]
    }
   ],
   "source": [
    "# For each of the bin boundary values, get the corresponding bin index.\n",
    "for x in xb:\n",
    "    try:\n",
    "        i_x = axis.index_from_value(x)\n",
    "    # ATTENTION: `index_from_value` does NOT work for the left-most border!\n",
    "    except IndexError:\n",
    "        i_x = f\"No bin found for {x=}\"\n",
    "        \n",
    "    print(f\"{x = :.2e}\\t{i_x = }\")"
   ]
  },
  {
   "cell_type": "code",
   "execution_count": 13,
   "id": "6dd5f31d",
   "metadata": {},
   "outputs": [
    {
     "name": "stdout",
     "output_type": "stream",
     "text": [
      "x = 1.12e-14\t-> i_x = 0\n",
      "x = 1.41e-12\t-> i_x = 1\n",
      "x = 1.78e-10\t-> i_x = 2\n",
      "x = 2.24e-08\t-> i_x = 3\n",
      "x = 2.82e-06\t-> i_x = 4\n",
      "x = 3.55e-04\t-> i_x = 5\n",
      "x = 4.47e-02\t-> i_x = 6\n",
      "x = 5.62e+00\t-> i_x = 7\n",
      "x = 7.08e+02\t-> i_x = 8\n",
      "x = 8.91e+04\t-> i_x = 9\n"
     ]
    }
   ],
   "source": [
    "# For each of the bin center values, get the corresponding bin index.\n",
    "for x in xc:\n",
    "    i_x = axis.index_from_value(x)\n",
    "    print(f\"{x = :.2e}\\t-> {i_x = }\")"
   ]
  }
 ],
 "metadata": {
  "kernelspec": {
   "display_name": "Python 3 (ipykernel)",
   "language": "python",
   "name": "python3"
  },
  "language_info": {
   "codemirror_mode": {
    "name": "ipython",
    "version": 3
   },
   "file_extension": ".py",
   "mimetype": "text/x-python",
   "name": "python",
   "nbconvert_exporter": "python",
   "pygments_lexer": "ipython3",
   "version": "3.10.11"
  }
 },
 "nbformat": 4,
 "nbformat_minor": 5
}
